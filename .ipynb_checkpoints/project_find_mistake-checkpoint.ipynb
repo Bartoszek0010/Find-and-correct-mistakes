{
 "cells": [
  {
   "cell_type": "markdown",
   "metadata": {},
   "source": [
    "text.txt is a text file with a text to check\n",
    "dictionary.txt is a text file with correct words separated by commas.\n",
    "This program will create new text file (new_text.txt) and will save there a corrected (or not) text from text.txt"
   ]
  },
  {
   "cell_type": "code",
   "execution_count": 1,
   "metadata": {},
   "outputs": [],
   "source": [
    "import re # library of regex important with checking dots and commas in word"
   ]
  },
  {
   "cell_type": "markdown",
   "metadata": {},
   "source": [
    "Function which will get a main part from word, remember prefix and suffix and find correct word in dictionary"
   ]
  },
  {
   "cell_type": "code",
   "execution_count": 2,
   "metadata": {},
   "outputs": [],
   "source": [
    "def find_mistake(word, dictionary): \n",
    "    for i in range(len(dictionary)):\n",
    "        if len(word) < len(dictionary[i]):\n",
    "            continue\n",
    "        for j in range(len(dictionary[i])):\n",
    "            substring = word[j:(j+len(dictionary[i]))] # get a substring try to find a main part of word\n",
    "            prefix = word[0:j] \n",
    "            suffix = word[(j+len(dictionary[i])):len(word)]\n",
    "            correct_let = 0 # amount of the same letters on the same positions in input word and dictionary word\n",
    "            dic_word = dictionary[i] # word form dictionary\n",
    "            for n in range(len(substring)): # loop to check all letters in words\n",
    "                if substring[n] == dic_word[n]: # if letters at position 'j' are the same\n",
    "                    correct_let = correct_let + 1 \n",
    "            if correct_let == len(dic_word) - 1: # if function find situation when words have the same length and \n",
    "                                             # and only one mistake, this is word which user wanted to input\n",
    "                                             # so we return position of correct word in dictionary \n",
    "                return i, prefix, suffix\n",
    "    return -1"
   ]
  },
  {
   "cell_type": "code",
   "execution_count": 3,
   "metadata": {},
   "outputs": [
    {
     "name": "stdout",
     "output_type": "stream",
     "text": [
      "['desktop', 'texteditor', 'transcript', 'dictionar']\n"
     ]
    }
   ],
   "source": [
    "# open .txt dictionary\n",
    "dictionary = open('dictionary.txt','r')\n",
    "# open new text to save corrected (or not) text\n",
    "new_text = open('new_text.txt','w')\n",
    "# printing our directory\n",
    "diction = dictionary.read().split(',') # save diction as array (split line of words using ',')\n",
    "print(diction)"
   ]
  },
  {
   "cell_type": "code",
   "execution_count": 4,
   "metadata": {},
   "outputs": [
    {
     "name": "stdout",
     "output_type": "stream",
     "text": [
      "['Here', 'is', 'a', 'mistake', 'in', ':', 'desktup,', 'texteditur,', 'transcrepts,', 'and', 'in', 'dictjonaries.']\n"
     ]
    }
   ],
   "source": [
    "#input text\n",
    "text = open('text.txt','r') # read text from txt file\n",
    "text = text.read().split() # firstly : text to string; next: split word to array\n",
    "print(text)"
   ]
  },
  {
   "cell_type": "code",
   "execution_count": 5,
   "metadata": {},
   "outputs": [],
   "source": [
    "mistake_word = list() # list of words with mistake\n",
    "correct_word = list() # list of correct version of words with mistake ( from dictionary )\n",
    "positions = list() # list of positions in \n",
    "is_dot = list() # 1 when this is word with dot, 0 when there isn't dot\n",
    "is_comma = list() # 1 when this is word with comma, 0 when there isn't comma\n",
    "for n in range(len(text)): # check all words in text\n",
    "    dot = 0 # normaly there is no point and comma\n",
    "    comma = 0 # \n",
    "    for m in range(len(text[n])): # check all letters in word\n",
    "        if text[n][m] == ',': # if in this word is a comma (',')\n",
    "            text_to_check = re.sub(',','',text[n]) # remove comma from word\n",
    "            comma = 1\n",
    "        else:\n",
    "            if text[n][m] == '.':\n",
    "                text_to_check = re.sub('\\.','',text[n]) # remove dot from word, '\\' because dot means all letters xD\n",
    "                dot = 1\n",
    "            else:\n",
    "                text_to_check = text[n]\n",
    "    if find_mistake(text_to_check, diction) != -1: # if function found a mistake in this word\n",
    "        crt_string = find_mistake(text_to_check, diction)[1] + diction[find_mistake(text_to_check, diction)[0]] + find_mistake(text_to_check, diction)[2]\n",
    "        correct_word.append(crt_string) # add to list word from dictionary, result \n",
    "                                                                           # find_word function\n",
    "        mistake_word.append(text_to_check) # add to list word where is a mistake\n",
    "        is_dot.append(dot) # add 0 or 1 to lists\n",
    "        is_comma.append(comma)\n",
    "        positions.append(n) # save position in text array (array of all words) where is a wrong word\n",
    "        \n",
    "        "
   ]
  },
  {
   "cell_type": "code",
   "execution_count": 6,
   "metadata": {},
   "outputs": [
    {
     "name": "stdout",
     "output_type": "stream",
     "text": [
      "Your mistakes are in  ['desktup', 'texteditur', 'transcrepts', 'dictjonaries']  , it should be  ['desktop', 'texteditor', 'transcripts', 'dictionaries']  . Do you want to auto correct it  yes/no\n",
      "yes\n",
      "['Here', 'is', 'a', 'mistake', 'in', ':', 'desktop,', 'texteditor,', 'transcripts,', 'and', 'in', 'dictionaries.']\n",
      "Here is a mistake in : desktop, texteditor, transcripts, and in dictionaries.\n"
     ]
    }
   ],
   "source": [
    "print('Your mistakes are in ', mistake_word,  ' , it should be ', correct_word, ' . Do you want to auto',\n",
    "      'correct it  yes/no') # print nice sentence with a lists\n",
    "if input() == 'yes': # if user want to auto-correct text\n",
    "    for n in range(len(positions)): # check whole list of mistakes\n",
    "        text_to_save = correct_word[n] # text_to_save - word which will be replaced in text\n",
    "        if is_dot[n] == 1: # if was a dot in this word \n",
    "            text_to_save = correct_word[n] + '.' # add dot to word\n",
    "        elif is_comma[n] == 1: # if was a comma in this word \n",
    "            text_to_save = correct_word[n] + ',' # add comma\n",
    "        text[positions[n]] = text_to_save # replace words with mistakes to correct word ( with (comma, dot) or without)\n",
    "print(text)\n",
    "text_str = \" \".join(text) # create a string (full text) from array with word (replaced or not)\n",
    "print(text_str)\n"
   ]
  },
  {
   "cell_type": "code",
   "execution_count": 7,
   "metadata": {},
   "outputs": [
    {
     "data": {
      "text/plain": [
       "77"
      ]
     },
     "execution_count": 7,
     "metadata": {},
     "output_type": "execute_result"
    }
   ],
   "source": [
    "new_text.write(text_str)"
   ]
  }
 ],
 "metadata": {
  "kernelspec": {
   "display_name": "Python 3",
   "language": "python",
   "name": "python3"
  },
  "language_info": {
   "codemirror_mode": {
    "name": "ipython",
    "version": 3
   },
   "file_extension": ".py",
   "mimetype": "text/x-python",
   "name": "python",
   "nbconvert_exporter": "python",
   "pygments_lexer": "ipython3",
   "version": "3.6.5"
  }
 },
 "nbformat": 4,
 "nbformat_minor": 2
}
